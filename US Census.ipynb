{
 "cells": [
  {
   "cell_type": "code",
   "execution_count": 1,
   "metadata": {
    "collapsed": true
   },
   "outputs": [],
   "source": [
    "import numpy as np\n",
    "import pandas as pd\n",
    "import matplotlib.pyplot as plt\n",
    "% matplotlib inline"
   ]
  },
  {
   "cell_type": "markdown",
   "metadata": {},
   "source": [
    "# 1. Import the learning and text files"
   ]
  },
  {
   "cell_type": "markdown",
   "metadata": {},
   "source": [
    "First, I need to import and clean the data. Some attribute from the origin dataset which can directly infer one's income status should not be used in the classifiers. The data you provide has already ignored them. I followed the instruction and added header for this dataframe.\n",
    "\n",
    "I encounter first challenging here: it seems I missed one label. I had to spend quite a while to check each label manually and found out second last column is actually a nominal variable \"year\"."
   ]
  },
  {
   "cell_type": "code",
   "execution_count": 2,
   "metadata": {
    "collapsed": true
   },
   "outputs": [],
   "source": [
    "names = [\"AAGE\", \"ACLSWKR\", \"ADTIND\", \"ADTOCC\", \"AHGA\", \"AHRSPAY\", \"AHSCOL\", \"AMARITL\", \"AMJIND\", \"AMJOCC\", \"ARACE\", \"AREORGN\", \"ASEX\", \"AUNMEM\", \"AUNTYPE\", \"AWKSTAT\", \"CAPGAIN\", \"CAPLOSS\", \"DIVVAL\", \"FILESTAT\", \"GRINREG\", \"GRINST\", \"HHDFMX\", \"HHDREL\", \"MARSUPWT\", \"MIGMTR1\", \"MIGMTR3\", \"MIGMTR4\", \"MIGSAME\", \"MIGSUN\", \"NOEMP\", \"PARENT\", \"PEFNTVTY\", \"PEMNTVTY\", \"PENATVTY\", \"PRCITSHP\", \"SEOTR\", \"VETQVA\", \"VETYN\", \"WKSWORK\", \"YEAR\", \"Y\"]\n",
    "train = pd.read_csv(\"census_income_learn.csv\",\n",
    "                 na_values=[\" ?\", \"?\"],\n",
    "                 header = None,\n",
    "                 names = names)\n",
    "test = pd.read_csv(\"census_income_test.csv\",\n",
    "                 na_values=[\" ?\", \"?\"],\n",
    "                 header = None,\n",
    "                 names = names)"
   ]
  },
  {
   "cell_type": "code",
   "execution_count": 3,
   "metadata": {},
   "outputs": [
    {
     "data": {
      "text/html": [
       "<div>\n",
       "<table border=\"1\" class=\"dataframe\">\n",
       "  <thead>\n",
       "    <tr style=\"text-align: right;\">\n",
       "      <th></th>\n",
       "      <th>AAGE</th>\n",
       "      <th>ACLSWKR</th>\n",
       "      <th>ADTIND</th>\n",
       "      <th>ADTOCC</th>\n",
       "      <th>AHGA</th>\n",
       "      <th>AHRSPAY</th>\n",
       "      <th>AHSCOL</th>\n",
       "      <th>AMARITL</th>\n",
       "      <th>AMJIND</th>\n",
       "      <th>AMJOCC</th>\n",
       "      <th>...</th>\n",
       "      <th>PEFNTVTY</th>\n",
       "      <th>PEMNTVTY</th>\n",
       "      <th>PENATVTY</th>\n",
       "      <th>PRCITSHP</th>\n",
       "      <th>SEOTR</th>\n",
       "      <th>VETQVA</th>\n",
       "      <th>VETYN</th>\n",
       "      <th>WKSWORK</th>\n",
       "      <th>YEAR</th>\n",
       "      <th>Y</th>\n",
       "    </tr>\n",
       "  </thead>\n",
       "  <tbody>\n",
       "    <tr>\n",
       "      <th>0</th>\n",
       "      <td>73</td>\n",
       "      <td>Not in universe</td>\n",
       "      <td>0</td>\n",
       "      <td>0</td>\n",
       "      <td>High school graduate</td>\n",
       "      <td>0</td>\n",
       "      <td>Not in universe</td>\n",
       "      <td>Widowed</td>\n",
       "      <td>Not in universe or children</td>\n",
       "      <td>Not in universe</td>\n",
       "      <td>...</td>\n",
       "      <td>United-States</td>\n",
       "      <td>United-States</td>\n",
       "      <td>United-States</td>\n",
       "      <td>Native- Born in the United States</td>\n",
       "      <td>0</td>\n",
       "      <td>Not in universe</td>\n",
       "      <td>2</td>\n",
       "      <td>0</td>\n",
       "      <td>95</td>\n",
       "      <td>-50000</td>\n",
       "    </tr>\n",
       "    <tr>\n",
       "      <th>1</th>\n",
       "      <td>58</td>\n",
       "      <td>Self-employed-not incorporated</td>\n",
       "      <td>4</td>\n",
       "      <td>34</td>\n",
       "      <td>Some college but no degree</td>\n",
       "      <td>0</td>\n",
       "      <td>Not in universe</td>\n",
       "      <td>Divorced</td>\n",
       "      <td>Construction</td>\n",
       "      <td>Precision production craft &amp; repair</td>\n",
       "      <td>...</td>\n",
       "      <td>United-States</td>\n",
       "      <td>United-States</td>\n",
       "      <td>United-States</td>\n",
       "      <td>Native- Born in the United States</td>\n",
       "      <td>0</td>\n",
       "      <td>Not in universe</td>\n",
       "      <td>2</td>\n",
       "      <td>52</td>\n",
       "      <td>94</td>\n",
       "      <td>-50000</td>\n",
       "    </tr>\n",
       "    <tr>\n",
       "      <th>2</th>\n",
       "      <td>18</td>\n",
       "      <td>Not in universe</td>\n",
       "      <td>0</td>\n",
       "      <td>0</td>\n",
       "      <td>10th grade</td>\n",
       "      <td>0</td>\n",
       "      <td>High school</td>\n",
       "      <td>Never married</td>\n",
       "      <td>Not in universe or children</td>\n",
       "      <td>Not in universe</td>\n",
       "      <td>...</td>\n",
       "      <td>Vietnam</td>\n",
       "      <td>Vietnam</td>\n",
       "      <td>Vietnam</td>\n",
       "      <td>Foreign born- Not a citizen of U S</td>\n",
       "      <td>0</td>\n",
       "      <td>Not in universe</td>\n",
       "      <td>2</td>\n",
       "      <td>0</td>\n",
       "      <td>95</td>\n",
       "      <td>-50000</td>\n",
       "    </tr>\n",
       "    <tr>\n",
       "      <th>3</th>\n",
       "      <td>9</td>\n",
       "      <td>Not in universe</td>\n",
       "      <td>0</td>\n",
       "      <td>0</td>\n",
       "      <td>Children</td>\n",
       "      <td>0</td>\n",
       "      <td>Not in universe</td>\n",
       "      <td>Never married</td>\n",
       "      <td>Not in universe or children</td>\n",
       "      <td>Not in universe</td>\n",
       "      <td>...</td>\n",
       "      <td>United-States</td>\n",
       "      <td>United-States</td>\n",
       "      <td>United-States</td>\n",
       "      <td>Native- Born in the United States</td>\n",
       "      <td>0</td>\n",
       "      <td>Not in universe</td>\n",
       "      <td>0</td>\n",
       "      <td>0</td>\n",
       "      <td>94</td>\n",
       "      <td>-50000</td>\n",
       "    </tr>\n",
       "    <tr>\n",
       "      <th>4</th>\n",
       "      <td>10</td>\n",
       "      <td>Not in universe</td>\n",
       "      <td>0</td>\n",
       "      <td>0</td>\n",
       "      <td>Children</td>\n",
       "      <td>0</td>\n",
       "      <td>Not in universe</td>\n",
       "      <td>Never married</td>\n",
       "      <td>Not in universe or children</td>\n",
       "      <td>Not in universe</td>\n",
       "      <td>...</td>\n",
       "      <td>United-States</td>\n",
       "      <td>United-States</td>\n",
       "      <td>United-States</td>\n",
       "      <td>Native- Born in the United States</td>\n",
       "      <td>0</td>\n",
       "      <td>Not in universe</td>\n",
       "      <td>0</td>\n",
       "      <td>0</td>\n",
       "      <td>94</td>\n",
       "      <td>-50000</td>\n",
       "    </tr>\n",
       "  </tbody>\n",
       "</table>\n",
       "<p>5 rows × 42 columns</p>\n",
       "</div>"
      ],
      "text/plain": [
       "   AAGE                          ACLSWKR  ADTIND  ADTOCC  \\\n",
       "0    73                  Not in universe       0       0   \n",
       "1    58   Self-employed-not incorporated       4      34   \n",
       "2    18                  Not in universe       0       0   \n",
       "3     9                  Not in universe       0       0   \n",
       "4    10                  Not in universe       0       0   \n",
       "\n",
       "                          AHGA  AHRSPAY            AHSCOL         AMARITL  \\\n",
       "0         High school graduate        0   Not in universe         Widowed   \n",
       "1   Some college but no degree        0   Not in universe        Divorced   \n",
       "2                   10th grade        0       High school   Never married   \n",
       "3                     Children        0   Not in universe   Never married   \n",
       "4                     Children        0   Not in universe   Never married   \n",
       "\n",
       "                         AMJIND                                AMJOCC   ...    \\\n",
       "0   Not in universe or children                       Not in universe   ...     \n",
       "1                  Construction   Precision production craft & repair   ...     \n",
       "2   Not in universe or children                       Not in universe   ...     \n",
       "3   Not in universe or children                       Not in universe   ...     \n",
       "4   Not in universe or children                       Not in universe   ...     \n",
       "\n",
       "         PEFNTVTY        PEMNTVTY        PENATVTY  \\\n",
       "0   United-States   United-States   United-States   \n",
       "1   United-States   United-States   United-States   \n",
       "2         Vietnam         Vietnam         Vietnam   \n",
       "3   United-States   United-States   United-States   \n",
       "4   United-States   United-States   United-States   \n",
       "\n",
       "                               PRCITSHP SEOTR            VETQVA  VETYN  \\\n",
       "0     Native- Born in the United States     0   Not in universe      2   \n",
       "1     Native- Born in the United States     0   Not in universe      2   \n",
       "2   Foreign born- Not a citizen of U S      0   Not in universe      2   \n",
       "3     Native- Born in the United States     0   Not in universe      0   \n",
       "4     Native- Born in the United States     0   Not in universe      0   \n",
       "\n",
       "   WKSWORK  YEAR       Y  \n",
       "0        0    95  -50000  \n",
       "1       52    94  -50000  \n",
       "2        0    95  -50000  \n",
       "3        0    94  -50000  \n",
       "4        0    94  -50000  \n",
       "\n",
       "[5 rows x 42 columns]"
      ]
     },
     "execution_count": 3,
     "metadata": {},
     "output_type": "execute_result"
    }
   ],
   "source": [
    "train.head()"
   ]
  },
  {
   "cell_type": "markdown",
   "metadata": {},
   "source": [
    "# 2. Based on the learning file:"
   ]
  },
  {
   "cell_type": "code",
   "execution_count": 19,
   "metadata": {},
   "outputs": [
    {
     "data": {
      "image/png": "[encoded data removed]",
      "text/plain": [
       "<matplotlib.figure.Figure at 0x11b7740b8>"
      ]
     },
     "metadata": {},
     "output_type": "display_data"
    }
   ],
   "source": [
    "continuous_vars = [0, 5, 16, 17]\n",
    "for i in range(len(continuous_vars)):\n",
    "    plt.subplot(1,4,i+1)\n",
    "    x = continuous_vars[i]\n",
    "    plt.boxplot(train[names[x]])\n",
    "    plt.title(names[x])"
   ]
  },
  {
   "cell_type": "code",
   "execution_count": 18,
   "metadata": {},
   "outputs": [
    {
     "data": {
      "image/png": "[encoded data removed]",
      "text/plain": [
       "<matplotlib.figure.Figure at 0x11a2178d0>"
      ]
     },
     "metadata": {},
     "output_type": "display_data"
    }
   ],
   "source": [
    "continuous_vars = [18, 30, 39]\n",
    "for i in range(len(continuous_vars)):\n",
    "    plt.subplot(1,4,i+1)\n",
    "    x = continuous_vars[i]\n",
    "    plt.boxplot(train[names[x]])\n",
    "    plt.title(names[x])"
   ]
  },
  {
   "cell_type": "markdown",
   "metadata": {},
   "source": [
    "We can see mean is nearly zero for 'wage per hour', 'cap gains', 'cap losses' and 'dividends'."
   ]
  },
  {
   "cell_type": "code",
   "execution_count": 34,
   "metadata": {},
   "outputs": [
    {
     "data": {
      "text/plain": [
       "<matplotlib.axes._subplots.AxesSubplot at 0x129f60be0>"
      ]
     },
     "execution_count": 34,
     "metadata": {},
     "output_type": "execute_result"
    },
    {
     "data": {
      "image/png": "[encoded data removed]",
      "text/plain": [
       "<matplotlib.figure.Figure at 0x129f60898>"
      ]
     },
     "metadata": {},
     "output_type": "display_data"
    }
   ],
   "source": [
    "train[\"ACLSWKR\"].value_counts().plot(kind='bar')"
   ]
  },
  {
   "cell_type": "code",
   "execution_count": 35,
   "metadata": {},
   "outputs": [
    {
     "data": {
      "text/plain": [
       "<matplotlib.axes._subplots.AxesSubplot at 0x1165c4be0>"
      ]
     },
     "execution_count": 35,
     "metadata": {},
     "output_type": "execute_result"
    },
    {
     "data": {
      "image/png": "[encoded data removed]",
      "text/plain": [
       "<matplotlib.figure.Figure at 0x119fbee80>"
      ]
     },
     "metadata": {},
     "output_type": "display_data"
    }
   ],
   "source": [
    "train[\"Y\"].value_counts().plot(kind='bar')"
   ]
  },
  {
   "cell_type": "markdown",
   "metadata": {},
   "source": [
    "First, let's check some nominal variable of the training set. As we can see from the \"class of worker\" graph. Lots of data are labeled with \"Not in universe\" which implies that the person was not a part of the population to which the question was directed. Thus, I deceided to view them as a category rather than missing data.\n",
    "\n",
    "For the second graph, we can see the data is really imbalanced. Then just guessing all people saving less than \\$50,000 / year would get a pretty good accuracy. Thus, I would to oversample the group of people saving more than \\$50,000 / year in training set and use AUC (Area under the ROC curve) as the criterion for my classifiers. This could be viewed as the second challenge I met."
   ]
  },
  {
   "cell_type": "code",
   "execution_count": 36,
   "metadata": {},
   "outputs": [
    {
     "data": {
      "text/html": [
       "<div>\n",
       "<table border=\"1\" class=\"dataframe\">\n",
       "  <thead>\n",
       "    <tr style=\"text-align: right;\">\n",
       "      <th></th>\n",
       "      <th>AAGE</th>\n",
       "      <th>ADTIND</th>\n",
       "      <th>ADTOCC</th>\n",
       "      <th>AHRSPAY</th>\n",
       "      <th>CAPGAIN</th>\n",
       "      <th>CAPLOSS</th>\n",
       "      <th>DIVVAL</th>\n",
       "      <th>MARSUPWT</th>\n",
       "      <th>NOEMP</th>\n",
       "      <th>SEOTR</th>\n",
       "      <th>VETYN</th>\n",
       "      <th>WKSWORK</th>\n",
       "      <th>YEAR</th>\n",
       "    </tr>\n",
       "  </thead>\n",
       "  <tbody>\n",
       "    <tr>\n",
       "      <th>count</th>\n",
       "      <td>199523.000000</td>\n",
       "      <td>199523.000000</td>\n",
       "      <td>199523.000000</td>\n",
       "      <td>199523.000000</td>\n",
       "      <td>199523.00000</td>\n",
       "      <td>199523.000000</td>\n",
       "      <td>199523.000000</td>\n",
       "      <td>199523.000000</td>\n",
       "      <td>199523.000000</td>\n",
       "      <td>199523.000000</td>\n",
       "      <td>199523.000000</td>\n",
       "      <td>199523.000000</td>\n",
       "      <td>199523.000000</td>\n",
       "    </tr>\n",
       "    <tr>\n",
       "      <th>mean</th>\n",
       "      <td>34.494199</td>\n",
       "      <td>15.352320</td>\n",
       "      <td>11.306556</td>\n",
       "      <td>55.426908</td>\n",
       "      <td>434.71899</td>\n",
       "      <td>37.313788</td>\n",
       "      <td>197.529533</td>\n",
       "      <td>1740.380269</td>\n",
       "      <td>1.956180</td>\n",
       "      <td>0.175438</td>\n",
       "      <td>1.514833</td>\n",
       "      <td>23.174897</td>\n",
       "      <td>94.499672</td>\n",
       "    </tr>\n",
       "    <tr>\n",
       "      <th>std</th>\n",
       "      <td>22.310895</td>\n",
       "      <td>18.067129</td>\n",
       "      <td>14.454204</td>\n",
       "      <td>274.896454</td>\n",
       "      <td>4697.53128</td>\n",
       "      <td>271.896428</td>\n",
       "      <td>1984.163658</td>\n",
       "      <td>993.768156</td>\n",
       "      <td>2.365126</td>\n",
       "      <td>0.553694</td>\n",
       "      <td>0.851473</td>\n",
       "      <td>24.411488</td>\n",
       "      <td>0.500001</td>\n",
       "    </tr>\n",
       "    <tr>\n",
       "      <th>min</th>\n",
       "      <td>0.000000</td>\n",
       "      <td>0.000000</td>\n",
       "      <td>0.000000</td>\n",
       "      <td>0.000000</td>\n",
       "      <td>0.00000</td>\n",
       "      <td>0.000000</td>\n",
       "      <td>0.000000</td>\n",
       "      <td>37.870000</td>\n",
       "      <td>0.000000</td>\n",
       "      <td>0.000000</td>\n",
       "      <td>0.000000</td>\n",
       "      <td>0.000000</td>\n",
       "      <td>94.000000</td>\n",
       "    </tr>\n",
       "    <tr>\n",
       "      <th>25%</th>\n",
       "      <td>15.000000</td>\n",
       "      <td>0.000000</td>\n",
       "      <td>0.000000</td>\n",
       "      <td>0.000000</td>\n",
       "      <td>0.00000</td>\n",
       "      <td>0.000000</td>\n",
       "      <td>0.000000</td>\n",
       "      <td>1061.615000</td>\n",
       "      <td>0.000000</td>\n",
       "      <td>0.000000</td>\n",
       "      <td>2.000000</td>\n",
       "      <td>0.000000</td>\n",
       "      <td>94.000000</td>\n",
       "    </tr>\n",
       "    <tr>\n",
       "      <th>50%</th>\n",
       "      <td>33.000000</td>\n",
       "      <td>0.000000</td>\n",
       "      <td>0.000000</td>\n",
       "      <td>0.000000</td>\n",
       "      <td>0.00000</td>\n",
       "      <td>0.000000</td>\n",
       "      <td>0.000000</td>\n",
       "      <td>1618.310000</td>\n",
       "      <td>1.000000</td>\n",
       "      <td>0.000000</td>\n",
       "      <td>2.000000</td>\n",
       "      <td>8.000000</td>\n",
       "      <td>94.000000</td>\n",
       "    </tr>\n",
       "    <tr>\n",
       "      <th>75%</th>\n",
       "      <td>50.000000</td>\n",
       "      <td>33.000000</td>\n",
       "      <td>26.000000</td>\n",
       "      <td>0.000000</td>\n",
       "      <td>0.00000</td>\n",
       "      <td>0.000000</td>\n",
       "      <td>0.000000</td>\n",
       "      <td>2188.610000</td>\n",
       "      <td>4.000000</td>\n",
       "      <td>0.000000</td>\n",
       "      <td>2.000000</td>\n",
       "      <td>52.000000</td>\n",
       "      <td>95.000000</td>\n",
       "    </tr>\n",
       "    <tr>\n",
       "      <th>max</th>\n",
       "      <td>90.000000</td>\n",
       "      <td>51.000000</td>\n",
       "      <td>46.000000</td>\n",
       "      <td>9999.000000</td>\n",
       "      <td>99999.00000</td>\n",
       "      <td>4608.000000</td>\n",
       "      <td>99999.000000</td>\n",
       "      <td>18656.300000</td>\n",
       "      <td>6.000000</td>\n",
       "      <td>2.000000</td>\n",
       "      <td>2.000000</td>\n",
       "      <td>52.000000</td>\n",
       "      <td>95.000000</td>\n",
       "    </tr>\n",
       "  </tbody>\n",
       "</table>\n",
       "</div>"
      ],
      "text/plain": [
       "                AAGE         ADTIND         ADTOCC        AHRSPAY  \\\n",
       "count  199523.000000  199523.000000  199523.000000  199523.000000   \n",
       "mean       34.494199      15.352320      11.306556      55.426908   \n",
       "std        22.310895      18.067129      14.454204     274.896454   \n",
       "min         0.000000       0.000000       0.000000       0.000000   \n",
       "25%        15.000000       0.000000       0.000000       0.000000   \n",
       "50%        33.000000       0.000000       0.000000       0.000000   \n",
       "75%        50.000000      33.000000      26.000000       0.000000   \n",
       "max        90.000000      51.000000      46.000000    9999.000000   \n",
       "\n",
       "            CAPGAIN        CAPLOSS         DIVVAL       MARSUPWT  \\\n",
       "count  199523.00000  199523.000000  199523.000000  199523.000000   \n",
       "mean      434.71899      37.313788     197.529533    1740.380269   \n",
       "std      4697.53128     271.896428    1984.163658     993.768156   \n",
       "min         0.00000       0.000000       0.000000      37.870000   \n",
       "25%         0.00000       0.000000       0.000000    1061.615000   \n",
       "50%         0.00000       0.000000       0.000000    1618.310000   \n",
       "75%         0.00000       0.000000       0.000000    2188.610000   \n",
       "max     99999.00000    4608.000000   99999.000000   18656.300000   \n",
       "\n",
       "               NOEMP          SEOTR          VETYN        WKSWORK  \\\n",
       "count  199523.000000  199523.000000  199523.000000  199523.000000   \n",
       "mean        1.956180       0.175438       1.514833      23.174897   \n",
       "std         2.365126       0.553694       0.851473      24.411488   \n",
       "min         0.000000       0.000000       0.000000       0.000000   \n",
       "25%         0.000000       0.000000       2.000000       0.000000   \n",
       "50%         1.000000       0.000000       2.000000       8.000000   \n",
       "75%         4.000000       0.000000       2.000000      52.000000   \n",
       "max         6.000000       2.000000       2.000000      52.000000   \n",
       "\n",
       "                YEAR  \n",
       "count  199523.000000  \n",
       "mean       94.499672  \n",
       "std         0.500001  \n",
       "min        94.000000  \n",
       "25%        94.000000  \n",
       "50%        94.000000  \n",
       "75%        95.000000  \n",
       "max        95.000000  "
      ]
     },
     "execution_count": 36,
     "metadata": {},
     "output_type": "execute_result"
    }
   ],
   "source": [
    "train.describe()"
   ]
  },
  {
   "cell_type": "code",
   "execution_count": 37,
   "metadata": {},
   "outputs": [
    {
     "data": {
      "text/plain": [
       "AAGE            0\n",
       "ACLSWKR         0\n",
       "ADTIND          0\n",
       "ADTOCC          0\n",
       "AHGA            0\n",
       "AHRSPAY         0\n",
       "AHSCOL          0\n",
       "AMARITL         0\n",
       "AMJIND          0\n",
       "AMJOCC          0\n",
       "ARACE           0\n",
       "AREORGN         0\n",
       "ASEX            0\n",
       "AUNMEM          0\n",
       "AUNTYPE         0\n",
       "AWKSTAT         0\n",
       "CAPGAIN         0\n",
       "CAPLOSS         0\n",
       "DIVVAL          0\n",
       "FILESTAT        0\n",
       "GRINREG         0\n",
       "GRINST        708\n",
       "HHDFMX          0\n",
       "HHDREL          0\n",
       "MARSUPWT        0\n",
       "MIGMTR1     99696\n",
       "MIGMTR3     99696\n",
       "MIGMTR4     99696\n",
       "MIGSAME         0\n",
       "MIGSUN      99696\n",
       "NOEMP           0\n",
       "PARENT          0\n",
       "PEFNTVTY     6713\n",
       "PEMNTVTY     6119\n",
       "PENATVTY     3393\n",
       "PRCITSHP        0\n",
       "SEOTR           0\n",
       "VETQVA          0\n",
       "VETYN           0\n",
       "WKSWORK         0\n",
       "YEAR            0\n",
       "Y               0\n",
       "dtype: int64"
      ]
     },
     "execution_count": 37,
     "metadata": {},
     "output_type": "execute_result"
    }
   ],
   "source": [
    "train.isnull().sum()"
   ]
  },
  {
   "cell_type": "code",
   "execution_count": 41,
   "metadata": {},
   "outputs": [
    {
     "data": {
      "text/plain": [
       "0.4996717170451527"
      ]
     },
     "execution_count": 41,
     "metadata": {},
     "output_type": "execute_result"
    }
   ],
   "source": [
    "99696 / train.shape[0]"
   ]
  },
  {
   "cell_type": "markdown",
   "metadata": {},
   "source": [
    "From the result showed above, about half of the data for MIGMTR1, MIGMTR3, MIGMTR4, MIGSUN are missing. I prefer to drop them. For PEFNTVTY, PEMNTVTY, PENATVTY, I think k-nn imputation would be a good idea. However, due to the limitation of time, I would skip this part.\n",
    "\n",
    "As I have to clean both datasets, I decide to concatenate train and test dataset together to save work. I also transfer nominal columns to several dummy variables in order to use machine learning algorithms for predicting."
   ]
  },
  {
   "cell_type": "code",
   "execution_count": 3,
   "metadata": {},
   "outputs": [
    {
     "name": "stderr",
     "output_type": "stream",
     "text": [
      "/Users/chang/anaconda/lib/python3.6/site-packages/ipykernel_launcher.py:6: SettingWithCopyWarning: \n",
      "A value is trying to be set on a copy of a slice from a DataFrame\n",
      "\n",
      "See the caveats in the documentation: http://pandas.pydata.org/pandas-docs/stable/indexing.html#indexing-view-versus-copy\n",
      "  \n",
      "/Users/chang/anaconda/lib/python3.6/site-packages/ipykernel_launcher.py:7: SettingWithCopyWarning: \n",
      "A value is trying to be set on a copy of a slice from a DataFrame\n",
      "\n",
      "See the caveats in the documentation: http://pandas.pydata.org/pandas-docs/stable/indexing.html#indexing-view-versus-copy\n",
      "  import sys\n",
      "/Users/chang/anaconda/lib/python3.6/site-packages/ipykernel_launcher.py:8: SettingWithCopyWarning: \n",
      "A value is trying to be set on a copy of a slice from a DataFrame\n",
      "\n",
      "See the caveats in the documentation: http://pandas.pydata.org/pandas-docs/stable/indexing.html#indexing-view-versus-copy\n",
      "  \n"
     ]
    }
   ],
   "source": [
    "tmp = train.append(test)\n",
    "Y = tmp[\"Y\"]\n",
    "X = tmp.drop([\"Y\", \"MIGMTR1\", \"MIGMTR3\",\"MIGMTR4\",\"MIGSUN\"],1)\n",
    "X.drop\n",
    "X = pd.get_dummies(X)\n",
    "Y[Y ==' 50000+.'] = 1\n",
    "Y[Y ==' - 50000.'] = 0\n",
    "Y[Y == \"-50000\"] = 0\n",
    "Y = Y.astype(int)\n",
    "X_train = X.iloc[:train.shape[0],]\n",
    "X_test = X.iloc[train.shape[0]:,]\n",
    "Y_train = Y.iloc[:train.shape[0],]\n",
    "Y_test = Y.iloc[train.shape[0]:,]"
   ]
  },
  {
   "cell_type": "markdown",
   "metadata": {},
   "source": [
    "# 3. Choose the model that appears to have the highest performance based on a comparison between reality (the 42nd variable) and the model’s prediction. "
   ]
  },
  {
   "cell_type": "markdown",
   "metadata": {},
   "source": [
    "Now I have finished data cleaning, I would use Logistic Regression classifier to be benchmark."
   ]
  },
  {
   "cell_type": "code",
   "execution_count": 5,
   "metadata": {},
   "outputs": [
    {
     "name": "stdout",
     "output_type": "stream",
     "text": [
      "guessing: 0.9379419916500854\n",
      "accuracy: 0.952431549245\n",
      "AUC: 0.682922070466\n"
     ]
    }
   ],
   "source": [
    "from sklearn.metrics import accuracy_score, roc_auc_score\n",
    "from sklearn import linear_model\n",
    "lr = linear_model.LogisticRegression()\n",
    "lr.fit(X_train, Y_train)\n",
    "Y_predict = lr.predict(X_train)\n",
    "print('guessing: ' + str(1 - np.mean(Y_train)))\n",
    "print('accuracy: ' + str(accuracy_score(Y_train, Y_predict)))\n",
    "print('AUC: ' + str(roc_auc_score(Y_train, Y_predict)))"
   ]
  },
  {
   "cell_type": "markdown",
   "metadata": {},
   "source": [
    "As we can see from the predict result, the train accuracy is quite high. However, it's just a little better than guessing. Actually, AUC is a better metric which consider both positive rate and the false positive rate.\n",
    "\n",
    "Let me do oversample and try the same classifier. Synthetic Minority Over-sampling Technique should perform better than random oversampling."
   ]
  },
  {
   "cell_type": "code",
   "execution_count": 43,
   "metadata": {},
   "outputs": [
    {
     "name": "stdout",
     "output_type": "stream",
     "text": [
      "guessing: 0.9379419916500854\n",
      "accuracy: 0.904256652115\n",
      "AUC: 0.855554719774\n"
     ]
    }
   ],
   "source": [
    "from imblearn.over_sampling import SMOTE\n",
    "X_train_oversample, Y_train_oversample = SMOTE(ratio=0.5).fit_sample(X_train,Y_train)\n",
    "clf = linear_model.LogisticRegression()\n",
    "clf.fit(X_train_oversample, Y_train_oversample)\n",
    "Y_predict = clf.predict(X_train)\n",
    "print('guessing: ' + str(1 - np.mean(Y_train)))\n",
    "print('accuracy: ' + str(accuracy_score(Y_train, Y_predict)))\n",
    "print('AUC: ' + str(roc_auc_score(Y_train, Y_predict)))"
   ]
  },
  {
   "cell_type": "code",
   "execution_count": 58,
   "metadata": {
    "scrolled": true
   },
   "outputs": [
    {
     "name": "stdout",
     "output_type": "stream",
     "text": [
      "guessing: 0.9379419916500854\n",
      "accuracy: 0.850478390962\n",
      "AUC: 0.863162954806\n"
     ]
    }
   ],
   "source": [
    "X_train_oversample, Y_train_oversample = SMOTE().fit_sample(X_train,Y_train)\n",
    "lr = linear_model.LogisticRegression()\n",
    "lr.fit(X_train_oversample, Y_train_oversample)\n",
    "Y_predict = lr.predict(X_train)\n",
    "print('guessing: ' + str(1 - np.mean(Y_train)))\n",
    "print('accuracy: ' + str(accuracy_score(Y_train, Y_predict)))\n",
    "print('AUC: ' + str(roc_auc_score(Y_train, Y_predict)))"
   ]
  },
  {
   "cell_type": "markdown",
   "metadata": {},
   "source": [
    "Though accuracy is keeping decreasing, the more data which saving more than \\$50,000 / year I oversampled, the more AUC I gain. I used the origin data rather than oversampled data for measuring performance in order to match the distribution of test data."
   ]
  },
  {
   "cell_type": "code",
   "execution_count": 16,
   "metadata": {},
   "outputs": [
    {
     "name": "stdout",
     "output_type": "stream",
     "text": [
      "guessing: 0.9379419916500854\n",
      "accuracy: 0.939896653519\n",
      "AUC: 0.768552594127\n"
     ]
    }
   ],
   "source": [
    "X_train_oversample, Y_train_oversample = SMOTE().fit_sample(X_train,Y_train)\n",
    "from sklearn.ensemble import RandomForestClassifier\n",
    "rf = RandomForestClassifier(max_depth = 15)\n",
    "rf.fit(X_train_oversample, Y_train_oversample)\n",
    "Y_predict = rf.predict(X_train)\n",
    "print('guessing: ' + str(1 - np.mean(Y_train)))\n",
    "print('accuracy: ' + str(accuracy_score(Y_train, Y_predict)))\n",
    "print('AUC: ' + str(roc_auc_score(Y_train, Y_predict)))"
   ]
  },
  {
   "cell_type": "code",
   "execution_count": 8,
   "metadata": {},
   "outputs": [
    {
     "name": "stdout",
     "output_type": "stream",
     "text": [
      "guessing: 0.9379419916500854\n",
      "accuracy: 0.944457531212\n",
      "AUC: 0.749489548688\n"
     ]
    }
   ],
   "source": [
    "from sklearn.ensemble import AdaBoostClassifier\n",
    "ada = AdaBoostClassifier()\n",
    "ada.fit(X_train_oversample, Y_train_oversample)\n",
    "Y_predict = ada.predict(X_train)\n",
    "print('guessing: ' + str(1 - np.mean(Y_train)))\n",
    "print('accuracy: ' + str(accuracy_score(Y_train, Y_predict)))\n",
    "print('AUC: ' + str(roc_auc_score(Y_train, Y_predict)))"
   ]
  },
  {
   "cell_type": "markdown",
   "metadata": {},
   "source": [
    "For a dataset large like this one, my laptop is incapable of handling support vector machines or gradient boosting machine. So I just tried two more models.\n",
    "\n",
    "Unexpectedly, Logistic Regression beats Adaboost. So I would check its weight on each variables and its performance on test set. "
   ]
  },
  {
   "cell_type": "markdown",
   "metadata": {},
   "source": [
    "# 4. Apply your model to the test file and measure it’s real performance on it "
   ]
  },
  {
   "cell_type": "code",
   "execution_count": 13,
   "metadata": {},
   "outputs": [
    {
     "name": "stdout",
     "output_type": "stream",
     "text": [
      "guessing: 0.937992421964275\n",
      "accuracy: 0.848689881919\n",
      "AUC: 0.865070333552\n"
     ]
    }
   ],
   "source": [
    "Y_predict = lr.predict(X_test)\n",
    "print('guessing: ' + str(1 - np.mean(Y_test)))\n",
    "print('accuracy: ' + str(accuracy_score(Y_test, Y_predict)))\n",
    "print('AUC: ' + str(roc_auc_score(Y_test, Y_predict)))"
   ]
  },
  {
   "cell_type": "markdown",
   "metadata": {},
   "source": [
    "The result shows there's no overfitting.\n",
    "\n",
    "Since all nominal feature from origin data are converted into dummy variable and most feature of X are dummy variabes. We can infer the importance of each variable without rescale them."
   ]
  },
  {
   "cell_type": "code",
   "execution_count": 128,
   "metadata": {},
   "outputs": [
    {
     "name": "stdout",
     "output_type": "stream",
     "text": [
      "negative contributes\n"
     ]
    }
   ],
   "source": [
    "ascend = np.argsort(lr.coef_.flatten())\n",
    "negative_feature = ()\n",
    "negative_value = []\n",
    "positive_feature = ()\n",
    "positive_value = []\n",
    "print(\"negative contributes\")\n",
    "for i in range(10):\n",
    "    negative_feature = negative_feature + (X_train.columns.values[ascend[i]],)\n",
    "    negative_value.append(lr.coef_.flatten()[ascend[i]])\n",
    "for i in range(10):\n",
    "    positive_feature = positive_feature + (X_train.columns.values[ascend[X_train.shape[1] - 1 -i]],)\n",
    "    positive_value.append(lr.coef_.flatten()[ascend[X_train.shape[1] - 1 -i]])"
   ]
  },
  {
   "cell_type": "code",
   "execution_count": 132,
   "metadata": {},
   "outputs": [
    {
     "data": {
      "text/plain": [
       "<matplotlib.text.Text at 0x1239a76a0>"
      ]
     },
     "execution_count": 132,
     "metadata": {},
     "output_type": "execute_result"
    },
    {
     "data": {
      "image/png": "[encoded data removed]",
      "text/plain": [
       "<matplotlib.figure.Figure at 0x123964b38>"
      ]
     },
     "metadata": {},
     "output_type": "display_data"
    }
   ],
   "source": [
    "y_pos = np.arange(10)\n",
    "plt.barh(y_pos, negative_value, align='center', alpha=0.5)\n",
    "plt.yticks(y_pos, negative_feature)\n",
    "plt.xlabel('coefficient')\n",
    "plt.title('negative contribution features')"
   ]
  },
  {
   "cell_type": "code",
   "execution_count": 134,
   "metadata": {},
   "outputs": [
    {
     "data": {
      "text/plain": [
       "<matplotlib.text.Text at 0x126969198>"
      ]
     },
     "execution_count": 134,
     "metadata": {},
     "output_type": "execute_result"
    },
    {
     "data": {
      "image/png": "[encoded data removed]",
      "text/plain": [
       "<matplotlib.figure.Figure at 0x12534d208>"
      ]
     },
     "metadata": {},
     "output_type": "display_data"
    }
   ],
   "source": [
    "y_pos = np.arange(10)\n",
    "plt.barh(y_pos, positive_value, align='center', alpha=0.5)\n",
    "plt.yticks(y_pos, positive_feature)\n",
    "plt.xlabel('coefficient')\n",
    "plt.title('positive contribution features')"
   ]
  },
  {
   "cell_type": "markdown",
   "metadata": {},
   "source": [
    "From the graphs above, we can see gender, education and major occupation would determinate one's saving greatly."
   ]
  },
  {
   "cell_type": "markdown",
   "metadata": {
    "collapsed": true
   },
   "source": [
    "As final exam approaching, I cannot spend enough time on this data challenge. If I have some more time, I would try to imputate missing data and use grid search to improve AUC. These "
   ]
  }
 ],
 "metadata": {
  "kernelspec": {
   "display_name": "Python 3",
   "language": "python",
   "name": "python3"
  },
  "language_info": {
   "codemirror_mode": {
    "name": "ipython",
    "version": 3
   },
   "file_extension": ".py",
   "mimetype": "text/x-python",
   "name": "python",
   "nbconvert_exporter": "python",
   "pygments_lexer": "ipython3",
   "version": "3.6.1"
  }
 },
 "nbformat": 4,
 "nbformat_minor": 2
}
